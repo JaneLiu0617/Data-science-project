{
 "cells": [
  {
   "cell_type": "markdown",
   "metadata": {},
   "source": [
    "1.Last name: Liu\n",
    "\n",
    "2.Date: 1/30/2020\n",
    "\n",
    "3.Approach: build two deep learning models (with and without 'gender' variable) with h2o \n",
    "\n",
    "4.AUC:0.846"
   ]
  },
  {
   "cell_type": "code",
   "execution_count": 1,
   "metadata": {},
   "outputs": [],
   "source": [
    "import warnings\n",
    "warnings.simplefilter('ignore')\n",
    "\n",
    "import pandas as pd\n",
    "import numpy as np\n",
    "import seaborn as sns\n",
    "import matplotlib.pyplot as plt\n",
    "\n",
    "from sklearn.metrics import auc, roc_curve, classification_report\n",
    "\n",
    "import h2o\n",
    "from h2o.frame import H2OFrame\n",
    "\n",
    "from h2o.grid.grid_search import H2OGridSearch\n",
    "from h2o.estimators.deeplearning import H2ODeepLearningEstimator"
   ]
  },
  {
   "cell_type": "markdown",
   "metadata": {},
   "source": [
    "## Load data"
   ]
  },
  {
   "cell_type": "code",
   "execution_count": 2,
   "metadata": {},
   "outputs": [
    {
     "data": {
      "text/html": [
       "<div>\n",
       "<style scoped>\n",
       "    .dataframe tbody tr th:only-of-type {\n",
       "        vertical-align: middle;\n",
       "    }\n",
       "\n",
       "    .dataframe tbody tr th {\n",
       "        vertical-align: top;\n",
       "    }\n",
       "\n",
       "    .dataframe thead th {\n",
       "        text-align: right;\n",
       "    }\n",
       "</style>\n",
       "<table border=\"1\" class=\"dataframe\">\n",
       "  <thead>\n",
       "    <tr style=\"text-align: right;\">\n",
       "      <th></th>\n",
       "      <th>age</th>\n",
       "      <th>cost_of_ad</th>\n",
       "      <th>device_type</th>\n",
       "      <th>gender</th>\n",
       "      <th>in_initial_launch_location</th>\n",
       "      <th>income</th>\n",
       "      <th>n_drivers</th>\n",
       "      <th>n_vehicles</th>\n",
       "      <th>prior_ins_tenure</th>\n",
       "      <th>outcome</th>\n",
       "    </tr>\n",
       "  </thead>\n",
       "  <tbody>\n",
       "    <tr>\n",
       "      <th>0</th>\n",
       "      <td>56</td>\n",
       "      <td>0.005737</td>\n",
       "      <td>iPhone</td>\n",
       "      <td>M</td>\n",
       "      <td>0</td>\n",
       "      <td>62717</td>\n",
       "      <td>2</td>\n",
       "      <td>1</td>\n",
       "      <td>4</td>\n",
       "      <td>0</td>\n",
       "    </tr>\n",
       "    <tr>\n",
       "      <th>1</th>\n",
       "      <td>50</td>\n",
       "      <td>0.004733</td>\n",
       "      <td>desktop</td>\n",
       "      <td>F</td>\n",
       "      <td>0</td>\n",
       "      <td>64328</td>\n",
       "      <td>2</td>\n",
       "      <td>3</td>\n",
       "      <td>2</td>\n",
       "      <td>0</td>\n",
       "    </tr>\n",
       "    <tr>\n",
       "      <th>2</th>\n",
       "      <td>54</td>\n",
       "      <td>0.004129</td>\n",
       "      <td>laptop</td>\n",
       "      <td>M</td>\n",
       "      <td>0</td>\n",
       "      <td>83439</td>\n",
       "      <td>1</td>\n",
       "      <td>3</td>\n",
       "      <td>7</td>\n",
       "      <td>0</td>\n",
       "    </tr>\n",
       "    <tr>\n",
       "      <th>3</th>\n",
       "      <td>16</td>\n",
       "      <td>0.005117</td>\n",
       "      <td>Android</td>\n",
       "      <td>F</td>\n",
       "      <td>0</td>\n",
       "      <td>30110</td>\n",
       "      <td>2</td>\n",
       "      <td>3</td>\n",
       "      <td>0</td>\n",
       "      <td>0</td>\n",
       "    </tr>\n",
       "    <tr>\n",
       "      <th>4</th>\n",
       "      <td>37</td>\n",
       "      <td>0.003635</td>\n",
       "      <td>desktop</td>\n",
       "      <td>M</td>\n",
       "      <td>0</td>\n",
       "      <td>76565</td>\n",
       "      <td>2</td>\n",
       "      <td>1</td>\n",
       "      <td>5</td>\n",
       "      <td>0</td>\n",
       "    </tr>\n",
       "  </tbody>\n",
       "</table>\n",
       "</div>"
      ],
      "text/plain": [
       "   age  cost_of_ad device_type gender  in_initial_launch_location  income  \\\n",
       "0   56    0.005737      iPhone      M                           0   62717   \n",
       "1   50    0.004733     desktop      F                           0   64328   \n",
       "2   54    0.004129      laptop      M                           0   83439   \n",
       "3   16    0.005117     Android      F                           0   30110   \n",
       "4   37    0.003635     desktop      M                           0   76565   \n",
       "\n",
       "   n_drivers  n_vehicles  prior_ins_tenure  outcome  \n",
       "0          2           1                 4        0  \n",
       "1          2           3                 2        0  \n",
       "2          1           3                 7        0  \n",
       "3          2           3                 0        0  \n",
       "4          2           1                 5        0  "
      ]
     },
     "execution_count": 2,
     "metadata": {},
     "output_type": "execute_result"
    }
   ],
   "source": [
    "train = pd.read_csv('train.csv')\n",
    "train.head()"
   ]
  },
  {
   "cell_type": "code",
   "execution_count": 3,
   "metadata": {},
   "outputs": [],
   "source": [
    "test = pd.read_csv('test.csv')\n",
    "test.head()\n",
    "res = test"
   ]
  },
  {
   "cell_type": "code",
   "execution_count": 4,
   "metadata": {},
   "outputs": [
    {
     "name": "stdout",
     "output_type": "stream",
     "text": [
      "<class 'pandas.core.frame.DataFrame'>\n",
      "RangeIndex: 10000 entries, 0 to 9999\n",
      "Data columns (total 10 columns):\n",
      "age                           10000 non-null int64\n",
      "cost_of_ad                    10000 non-null float64\n",
      "device_type                   10000 non-null object\n",
      "gender                        9731 non-null object\n",
      "in_initial_launch_location    10000 non-null int64\n",
      "income                        10000 non-null int64\n",
      "n_drivers                     10000 non-null int64\n",
      "n_vehicles                    10000 non-null int64\n",
      "prior_ins_tenure              10000 non-null int64\n",
      "outcome                       10000 non-null int64\n",
      "dtypes: float64(1), int64(7), object(2)\n",
      "memory usage: 781.3+ KB\n"
     ]
    }
   ],
   "source": [
    "train.info()"
   ]
  },
  {
   "cell_type": "code",
   "execution_count": 5,
   "metadata": {},
   "outputs": [
    {
     "name": "stdout",
     "output_type": "stream",
     "text": [
      "<class 'pandas.core.frame.DataFrame'>\n",
      "RangeIndex: 10000 entries, 0 to 9999\n",
      "Data columns (total 9 columns):\n",
      "age                           10000 non-null int64\n",
      "cost_of_ad                    10000 non-null float64\n",
      "device_type                   10000 non-null object\n",
      "gender                        9751 non-null object\n",
      "in_initial_launch_location    10000 non-null int64\n",
      "income                        10000 non-null int64\n",
      "n_drivers                     10000 non-null int64\n",
      "n_vehicles                    10000 non-null int64\n",
      "prior_ins_tenure              10000 non-null int64\n",
      "dtypes: float64(1), int64(6), object(2)\n",
      "memory usage: 703.2+ KB\n"
     ]
    }
   ],
   "source": [
    "test.info()"
   ]
  },
  {
   "cell_type": "markdown",
   "metadata": {},
   "source": [
    "## Deal with missing values"
   ]
  },
  {
   "cell_type": "code",
   "execution_count": 33,
   "metadata": {},
   "outputs": [
    {
     "name": "stdout",
     "output_type": "stream",
     "text": [
      "Train missing value:\n",
      "\n",
      " age                           0\n",
      "cost_of_ad                    0\n",
      "device_type                   0\n",
      "gender                        0\n",
      "in_initial_launch_location    0\n",
      "income                        0\n",
      "n_drivers                     0\n",
      "n_vehicles                    0\n",
      "prior_ins_tenure              0\n",
      "outcome                       0\n",
      "dtype: int64 \n",
      "\n",
      "Test missing value:\n",
      "\n",
      " age                             0\n",
      "cost_of_ad                      0\n",
      "device_type                     0\n",
      "gender                        249\n",
      "in_initial_launch_location      0\n",
      "income                          0\n",
      "n_drivers                       0\n",
      "n_vehicles                      0\n",
      "prior_ins_tenure                0\n",
      "dtype: int64\n",
      "\n",
      " We could find that there are missing values (gender) both in test data and trainning data \n",
      "and the outcome is the target value\n",
      "\n",
      "Train missing gender value rate: 2.76 %\n",
      "Test missing gender value rate: 2.56 %\n"
     ]
    }
   ],
   "source": [
    "print('Train missing value:\\n\\n', train.isnull().sum(),'\\n\\nTest missing value:\\n\\n',test.isnull().sum())\n",
    "print('\\n We could find that there are missing values (gender) both in test data and trainning data \\nand the outcome is the target value')\n",
    "\n",
    "print('\\nTrain missing gender value rate:', round(269/train.count().values[0] *100, 2), '%'\n",
    "      '\\nTest missing gender value rate:',round( 249/train.count().values[0] *100, 2 ), '%')"
   ]
  },
  {
   "cell_type": "code",
   "execution_count": 7,
   "metadata": {},
   "outputs": [],
   "source": [
    "# drop missing value of train data\n",
    "train.dropna(axis = 0, how ='any', inplace = True)\n",
    "# sepreate missing value of test data into test1 and test2( missing gender value rows)\n",
    "test1 = test.dropna(axis = 0, how = 'any')\n",
    "test2 = test[test.gender.isnull()]"
   ]
  },
  {
   "cell_type": "code",
   "execution_count": 8,
   "metadata": {},
   "outputs": [
    {
     "name": "stdout",
     "output_type": "stream",
     "text": [
      "age                              45 [16, 17, 18, 19, 20]\n",
      "cost_of_ad                     9716 [0.003170567, 0.003190502, 0.003190587, 0.003196536, 0.003201041]\n",
      "device_type                       5 ['Android', 'desktop', 'iPhone', 'laptop', 'other']\n",
      "gender                            2 ['F', 'M']\n",
      "in_initial_launch_location         2 [0, 1]\n",
      "income                         9028 [16241, 16375, 16753, 16812, 17081]\n",
      "n_drivers                         2 [1, 2]\n",
      "n_vehicles                        3 [1, 2, 3]\n",
      "prior_ins_tenure                 23 [0, 1, 2, 3, 4]\n",
      "outcome                           2 [0, 1]\n"
     ]
    }
   ],
   "source": [
    "# check the unique values\n",
    "for i in train.columns:\n",
    "    uniques = sorted(train[i].unique())\n",
    "    print('{0:25s}{1:10d}'.format(i, len(uniques)), uniques[:5])"
   ]
  },
  {
   "cell_type": "code",
   "execution_count": 30,
   "metadata": {},
   "outputs": [
    {
     "name": "stdout",
     "output_type": "stream",
     "text": [
      "  gender   outcome\n",
      "0      F  0.058954\n",
      "1      M  0.142827\n"
     ]
    },
    {
     "data": {
      "image/png": "[encoded data removed]",
      "text/plain": [
       "<Figure size 720x360 with 2 Axes>"
      ]
     },
     "metadata": {
      "needs_background": "light"
     },
     "output_type": "display_data"
    },
    {
     "name": "stdout",
     "output_type": "stream",
     "text": [
      "We could easily find that the gender is a very important factor \n",
      "the mean outcome of M is almost 3 times of the one of F; \n",
      "The training data is unbalanced and we would handle it in model process\n"
     ]
    }
   ],
   "source": [
    "gender = train[['gender', 'outcome']].groupby('gender').mean().reset_index()\n",
    "print(gender)\n",
    "\n",
    "fig, ax = plt.subplots(nrows = 1, ncols = 2, figsize = (10,5))\n",
    "sns.countplot(x = 'gender', hue = 'outcome', data = train, ax = ax[0])\n",
    "sns.barplot(x = 'gender', y = 'outcome', data = gender, ax = ax[1])\n",
    "plt.show()\n",
    "print('We could easily find that the gender is a very important factor',\n",
    "      '\\nthe mean outcome of M is almost 3 times of the one of F;', \n",
    "      '\\nThe training data is unbalanced and we would handle it in model process')"
   ]
  },
  {
   "cell_type": "markdown",
   "metadata": {},
   "source": [
    "##  Build two deep learning model with h2o"
   ]
  },
  {
   "cell_type": "markdown",
   "metadata": {},
   "source": [
    "### Build the first model with all the features"
   ]
  },
  {
   "cell_type": "code",
   "execution_count": 10,
   "metadata": {},
   "outputs": [
    {
     "name": "stdout",
     "output_type": "stream",
     "text": [
      "Checking whether there is an H2O instance running at http://localhost:54321 ..... not found.\n",
      "Attempting to start a local H2O server...\n",
      "; Java HotSpot(TM) 64-Bit Server VM (build 25.241-b07, mixed mode)\n",
      "  Starting server from C:\\Users\\jiayi\\Anaconda3\\lib\\site-packages\\h2o\\backend\\bin\\h2o.jar\n",
      "  Ice root: C:\\Users\\jiayi\\AppData\\Local\\Temp\\tmpkd17wxoo\n",
      "  JVM stdout: C:\\Users\\jiayi\\AppData\\Local\\Temp\\tmpkd17wxoo\\h2o_jiayi_started_from_python.out\n",
      "  JVM stderr: C:\\Users\\jiayi\\AppData\\Local\\Temp\\tmpkd17wxoo\\h2o_jiayi_started_from_python.err\n",
      "  Server is running at http://127.0.0.1:54321\n",
      "Connecting to H2O server at http://127.0.0.1:54321 ... successful.\n",
      "Warning: Your H2O cluster version is too old (7 months and 11 days)! Please download and install the latest version from http://h2o.ai/download/\n"
     ]
    },
    {
     "data": {
      "text/html": [
       "<div style=\"overflow:auto\"><table style=\"width:50%\"><tr><td>H2O cluster uptime:</td>\n",
       "<td>02 secs</td></tr>\n",
       "<tr><td>H2O cluster timezone:</td>\n",
       "<td>America/Los_Angeles</td></tr>\n",
       "<tr><td>H2O data parsing timezone:</td>\n",
       "<td>UTC</td></tr>\n",
       "<tr><td>H2O cluster version:</td>\n",
       "<td>3.24.0.5</td></tr>\n",
       "<tr><td>H2O cluster version age:</td>\n",
       "<td>7 months and 11 days !!!</td></tr>\n",
       "<tr><td>H2O cluster name:</td>\n",
       "<td>H2O_from_python_jiayi_5ehje0</td></tr>\n",
       "<tr><td>H2O cluster total nodes:</td>\n",
       "<td>1</td></tr>\n",
       "<tr><td>H2O cluster free memory:</td>\n",
       "<td>1.749 Gb</td></tr>\n",
       "<tr><td>H2O cluster total cores:</td>\n",
       "<td>4</td></tr>\n",
       "<tr><td>H2O cluster allowed cores:</td>\n",
       "<td>4</td></tr>\n",
       "<tr><td>H2O cluster status:</td>\n",
       "<td>accepting new members, healthy</td></tr>\n",
       "<tr><td>H2O connection url:</td>\n",
       "<td>http://127.0.0.1:54321</td></tr>\n",
       "<tr><td>H2O connection proxy:</td>\n",
       "<td>None</td></tr>\n",
       "<tr><td>H2O internal security:</td>\n",
       "<td>False</td></tr>\n",
       "<tr><td>H2O API Extensions:</td>\n",
       "<td>Amazon S3, Algos, AutoML, Core V3, Core V4</td></tr>\n",
       "<tr><td>Python version:</td>\n",
       "<td>3.7.3 final</td></tr></table></div>"
      ],
      "text/plain": [
       "--------------------------  ------------------------------------------\n",
       "H2O cluster uptime:         02 secs\n",
       "H2O cluster timezone:       America/Los_Angeles\n",
       "H2O data parsing timezone:  UTC\n",
       "H2O cluster version:        3.24.0.5\n",
       "H2O cluster version age:    7 months and 11 days !!!\n",
       "H2O cluster name:           H2O_from_python_jiayi_5ehje0\n",
       "H2O cluster total nodes:    1\n",
       "H2O cluster free memory:    1.749 Gb\n",
       "H2O cluster total cores:    4\n",
       "H2O cluster allowed cores:  4\n",
       "H2O cluster status:         accepting new members, healthy\n",
       "H2O connection url:         http://127.0.0.1:54321\n",
       "H2O connection proxy:\n",
       "H2O internal security:      False\n",
       "H2O API Extensions:         Amazon S3, Algos, AutoML, Core V3, Core V4\n",
       "Python version:             3.7.3 final\n",
       "--------------------------  ------------------------------------------"
      ]
     },
     "metadata": {},
     "output_type": "display_data"
    }
   ],
   "source": [
    "# Initialize H2O cluster\n",
    "h2o.init()\n",
    "h2o.remove_all()"
   ]
  },
  {
   "cell_type": "code",
   "execution_count": 11,
   "metadata": {},
   "outputs": [
    {
     "name": "stdout",
     "output_type": "stream",
     "text": [
      "Parse progress: |█████████████████████████████████████████████████████████| 100%\n"
     ]
    }
   ],
   "source": [
    "data = train\n",
    "# convert data into h2o, and change relative variable into factors\n",
    "h2o_df= H2OFrame(data)\n",
    "h2o_df['outcome']= h2o_df['outcome'].asfactor()\n",
    "h2o_df['in_initial_launch_location']= h2o_df['in_initial_launch_location'].asfactor()\n",
    "# h2o_df['gender']= h2o_df['gender'].asfactor()\n",
    "# h2o_df['n_drivers']= h2o_df['n_drivers'].asfactor()\n",
    "# h2o_df['n_vehicles']= h2o_df['n_vehicles'].asfactor()\n",
    "# h2o_df['prior_ins_tenure']= h2o_df['prior_ins_tenure'].asfactor()\n"
   ]
  },
  {
   "cell_type": "code",
   "execution_count": 12,
   "metadata": {},
   "outputs": [],
   "source": [
    "# Split into 75% training and 25% test dataset\n",
    "strat_split = h2o_df['outcome'].stratified_split(test_frac=0.25, seed=42)\n",
    "\n",
    "training = h2o_df[strat_split == 'train']\n",
    "testing = h2o_df[strat_split == 'test']\n",
    "\n",
    "feature = ['age', 'cost_of_ad', 'device_type', 'gender',\n",
    "       'in_initial_launch_location', 'income', 'n_drivers', 'n_vehicles',\n",
    "       'prior_ins_tenure']\n",
    "target = 'outcome'"
   ]
  },
  {
   "cell_type": "code",
   "execution_count": 13,
   "metadata": {},
   "outputs": [
    {
     "name": "stdout",
     "output_type": "stream",
     "text": [
      "deeplearning Model Build progress: |██████████████████████████████████████| 100%\n"
     ]
    }
   ],
   "source": [
    "# Build model_deep learning\n",
    "model = H2ODeepLearningEstimator(balance_classes=True, seed = 42)\n",
    "\n",
    "model.train(x=feature, y=target, training_frame = training)"
   ]
  },
  {
   "cell_type": "code",
   "execution_count": 14,
   "metadata": {},
   "outputs": [
    {
     "name": "stdout",
     "output_type": "stream",
     "text": [
      "deeplearning prediction progress: |███████████████████████████████████████| 100%\n",
      "deeplearning prediction progress: |███████████████████████████████████████| 100%\n"
     ]
    }
   ],
   "source": [
    "# Make predictions\n",
    "train_true = training.as_data_frame()['outcome'].values\n",
    "test_true = testing.as_data_frame()['outcome'].values\n",
    "train_pred = model.predict(training).as_data_frame()['p1'].values\n",
    "test_pred = model.predict(testing).as_data_frame()['p1'].values\n",
    "\n",
    "train_fpr, train_tpr, _ = roc_curve(train_true, train_pred)\n",
    "test_fpr, test_tpr, _ = roc_curve(test_true, test_pred)\n",
    "train_auc = np.round(auc(train_fpr, train_tpr), 3)\n",
    "test_auc = np.round(auc(test_fpr, test_tpr), 3)"
   ]
  },
  {
   "cell_type": "code",
   "execution_count": 15,
   "metadata": {},
   "outputs": [
    {
     "name": "stdout",
     "output_type": "stream",
     "text": [
      "              precision    recall  f1-score   support\n",
      "\n",
      "           0       0.92      0.97      0.95      2190\n",
      "           1       0.53      0.28      0.36       243\n",
      "\n",
      "   micro avg       0.90      0.90      0.90      2433\n",
      "   macro avg       0.73      0.62      0.66      2433\n",
      "weighted avg       0.88      0.90      0.89      2433\n",
      "\n"
     ]
    },
    {
     "data": {
      "image/png": "[encoded data removed]",
      "text/plain": [
       "<Figure size 1008x720 with 1 Axes>"
      ]
     },
     "metadata": {
      "needs_background": "light"
     },
     "output_type": "display_data"
    },
    {
     "name": "stdout",
     "output_type": "stream",
     "text": [
      "Important variables: gender, in_inital_launch_location, device_type and age\n"
     ]
    }
   ],
   "source": [
    "# Classification report\n",
    "print(classification_report(y_true=test_true, y_pred=(test_pred > 0.6).astype(int)))\n",
    "model.varimp_plot()\n",
    "print('Important variables: gender, in_inital_launch_location, device_type and age')"
   ]
  },
  {
   "cell_type": "code",
   "execution_count": 39,
   "metadata": {},
   "outputs": [
    {
     "name": "stdout",
     "output_type": "stream",
     "text": [
      "              precision    recall  f1-score   support\n",
      "\n",
      "           0       0.93      0.96      0.94      2190\n",
      "           1       0.49      0.37      0.42       243\n",
      "\n",
      "   micro avg       0.90      0.90      0.90      2433\n",
      "   macro avg       0.71      0.66      0.68      2433\n",
      "weighted avg       0.89      0.90      0.89      2433\n",
      "\n"
     ]
    }
   ],
   "source": [
    "# Classification report\n",
    "print(classification_report(y_true=test_true, y_pred=(test_pred > 0.5).astype(int)))"
   ]
  },
  {
   "cell_type": "code",
   "execution_count": 17,
   "metadata": {},
   "outputs": [
    {
     "data": {
      "image/png": "[encoded data removed]",
      "text/plain": [
       "<Figure size 576x432 with 1 Axes>"
      ]
     },
     "metadata": {
      "needs_background": "light"
     },
     "output_type": "display_data"
    }
   ],
   "source": [
    "# draw the AUC and ROC\n",
    "fig, ax = plt.subplots(figsize=(8, 6))\n",
    "ax.plot(train_fpr, train_tpr, label='Train AUC: ' + str(train_auc))\n",
    "ax.plot(test_fpr, test_tpr, label='Test AUC: ' + str(test_auc))\n",
    "ax.set_xlabel('False Positive Rate', fontsize=12)\n",
    "ax.set_ylabel('True Positive Rate', fontsize=12)\n",
    "ax.legend(fontsize=12)\n",
    "plt.show()"
   ]
  },
  {
   "cell_type": "code",
   "execution_count": 18,
   "metadata": {},
   "outputs": [
    {
     "name": "stdout",
     "output_type": "stream",
     "text": [
      "Parse progress: |█████████████████████████████████████████████████████████| 100%\n",
      "deeplearning prediction progress: |███████████████████████████████████████| 100%\n"
     ]
    },
    {
     "data": {
      "text/html": [
       "<div>\n",
       "<style scoped>\n",
       "    .dataframe tbody tr th:only-of-type {\n",
       "        vertical-align: middle;\n",
       "    }\n",
       "\n",
       "    .dataframe tbody tr th {\n",
       "        vertical-align: top;\n",
       "    }\n",
       "\n",
       "    .dataframe thead th {\n",
       "        text-align: right;\n",
       "    }\n",
       "</style>\n",
       "<table border=\"1\" class=\"dataframe\">\n",
       "  <thead>\n",
       "    <tr style=\"text-align: right;\">\n",
       "      <th></th>\n",
       "      <th>age</th>\n",
       "      <th>cost_of_ad</th>\n",
       "      <th>device_type</th>\n",
       "      <th>gender</th>\n",
       "      <th>in_initial_launch_location</th>\n",
       "      <th>income</th>\n",
       "      <th>n_drivers</th>\n",
       "      <th>n_vehicles</th>\n",
       "      <th>prior_ins_tenure</th>\n",
       "      <th>outcome</th>\n",
       "      <th>outcome_prob</th>\n",
       "    </tr>\n",
       "  </thead>\n",
       "  <tbody>\n",
       "    <tr>\n",
       "      <th>0</th>\n",
       "      <td>34</td>\n",
       "      <td>0.005134</td>\n",
       "      <td>Android</td>\n",
       "      <td>F</td>\n",
       "      <td>1</td>\n",
       "      <td>40376</td>\n",
       "      <td>1</td>\n",
       "      <td>3</td>\n",
       "      <td>7</td>\n",
       "      <td>0</td>\n",
       "      <td>0.003875</td>\n",
       "    </tr>\n",
       "    <tr>\n",
       "      <th>1</th>\n",
       "      <td>53</td>\n",
       "      <td>0.005223</td>\n",
       "      <td>desktop</td>\n",
       "      <td>F</td>\n",
       "      <td>1</td>\n",
       "      <td>84511</td>\n",
       "      <td>1</td>\n",
       "      <td>1</td>\n",
       "      <td>11</td>\n",
       "      <td>0</td>\n",
       "      <td>0.122604</td>\n",
       "    </tr>\n",
       "    <tr>\n",
       "      <th>2</th>\n",
       "      <td>46</td>\n",
       "      <td>0.004939</td>\n",
       "      <td>laptop</td>\n",
       "      <td>F</td>\n",
       "      <td>0</td>\n",
       "      <td>79322</td>\n",
       "      <td>1</td>\n",
       "      <td>1</td>\n",
       "      <td>4</td>\n",
       "      <td>0</td>\n",
       "      <td>0.168163</td>\n",
       "    </tr>\n",
       "    <tr>\n",
       "      <th>3</th>\n",
       "      <td>36</td>\n",
       "      <td>0.004924</td>\n",
       "      <td>Android</td>\n",
       "      <td>F</td>\n",
       "      <td>0</td>\n",
       "      <td>63295</td>\n",
       "      <td>1</td>\n",
       "      <td>2</td>\n",
       "      <td>0</td>\n",
       "      <td>0</td>\n",
       "      <td>0.010565</td>\n",
       "    </tr>\n",
       "    <tr>\n",
       "      <th>4</th>\n",
       "      <td>28</td>\n",
       "      <td>0.005146</td>\n",
       "      <td>other</td>\n",
       "      <td>F</td>\n",
       "      <td>1</td>\n",
       "      <td>36170</td>\n",
       "      <td>1</td>\n",
       "      <td>3</td>\n",
       "      <td>3</td>\n",
       "      <td>0</td>\n",
       "      <td>0.000033</td>\n",
       "    </tr>\n",
       "  </tbody>\n",
       "</table>\n",
       "</div>"
      ],
      "text/plain": [
       "   age  cost_of_ad device_type gender  in_initial_launch_location  income  \\\n",
       "0   34    0.005134     Android      F                           1   40376   \n",
       "1   53    0.005223     desktop      F                           1   84511   \n",
       "2   46    0.004939      laptop      F                           0   79322   \n",
       "3   36    0.004924     Android      F                           0   63295   \n",
       "4   28    0.005146       other      F                           1   36170   \n",
       "\n",
       "   n_drivers  n_vehicles  prior_ins_tenure  outcome  outcome_prob  \n",
       "0          1           3                 7        0      0.003875  \n",
       "1          1           1                11        0      0.122604  \n",
       "2          1           1                 4        0      0.168163  \n",
       "3          1           2                 0        0      0.010565  \n",
       "4          1           3                 3        0      0.000033  "
      ]
     },
     "execution_count": 18,
     "metadata": {},
     "output_type": "execute_result"
    }
   ],
   "source": [
    "# Use the model to predict the test1 \n",
    "h2o_test1= H2OFrame(test1)\n",
    "h2o_test1['in_initial_launch_location']= h2o_test1['in_initial_launch_location'].asfactor()\n",
    "test1_pred = model.predict(h2o_test1).as_data_frame()['p1'].values\n",
    "test1_p = list(test1_pred)\n",
    "outcome = []\n",
    "for i in test1_p:\n",
    "    if i > 0.6:\n",
    "        outcome.append(1)\n",
    "    else:\n",
    "        outcome.append(0)\n",
    "test1['outcome'] = outcome\n",
    "test1['outcome_prob'] = test1_p\n",
    "test1.head()"
   ]
  },
  {
   "cell_type": "markdown",
   "metadata": {},
   "source": [
    "###  Model without 'gender' "
   ]
  },
  {
   "cell_type": "code",
   "execution_count": 19,
   "metadata": {},
   "outputs": [
    {
     "name": "stdout",
     "output_type": "stream",
     "text": [
      "deeplearning Model Build progress: |██████████████████████████████████████| 100%\n"
     ]
    }
   ],
   "source": [
    "# Split into 75% training and 25% test dataset\n",
    "strat_split = h2o_df['outcome'].stratified_split(test_frac=0.25, seed=42)\n",
    "\n",
    "training = h2o_df[strat_split == 'train']\n",
    "testing = h2o_df[strat_split == 'test']\n",
    "\n",
    "feature = ['age', 'cost_of_ad', 'device_type', \n",
    "       'in_initial_launch_location', 'income', 'n_drivers', 'n_vehicles',\n",
    "       'prior_ins_tenure']\n",
    "target = 'outcome'\n",
    "# Build model_deep learning without gender\n",
    "model1 = H2ODeepLearningEstimator(balance_classes=True, seed = 42)\n",
    "\n",
    "model1.train(x=feature, y=target, training_frame=training)"
   ]
  },
  {
   "cell_type": "code",
   "execution_count": 20,
   "metadata": {},
   "outputs": [
    {
     "name": "stdout",
     "output_type": "stream",
     "text": [
      "deeplearning prediction progress: |███████████████████████████████████████| 100%\n",
      "deeplearning prediction progress: |███████████████████████████████████████| 100%\n"
     ]
    },
    {
     "data": {
      "image/png": "[encoded data removed]",
      "text/plain": [
       "<Figure size 576x432 with 1 Axes>"
      ]
     },
     "metadata": {
      "needs_background": "light"
     },
     "output_type": "display_data"
    }
   ],
   "source": [
    "# Make predictions\n",
    "train_true = training.as_data_frame()['outcome'].values\n",
    "test_true = testing.as_data_frame()['outcome'].values\n",
    "train_pred1 = model1.predict(training).as_data_frame()['p1'].values\n",
    "test_pred1 = model1.predict(testing).as_data_frame()['p1'].values\n",
    "\n",
    "train_fpr, train_tpr, _ = roc_curve(train_true, train_pred1)\n",
    "test_fpr, test_tpr, _ = roc_curve(test_true, test_pred1)\n",
    "train_auc = np.round(auc(train_fpr, train_tpr), 3)\n",
    "test_auc = np.round(auc(test_fpr, test_tpr), 3)\n",
    "\n",
    "fig, ax = plt.subplots(figsize=(8, 6))\n",
    "ax.plot(train_fpr, train_tpr, label='Train AUC: ' + str(train_auc))\n",
    "ax.plot(test_fpr, test_tpr, label='Test AUC: ' + str(test_auc))\n",
    "ax.set_xlabel('False Positive Rate', fontsize=12)\n",
    "ax.set_ylabel('True Positive Rate', fontsize=12)\n",
    "ax.legend(fontsize=12)\n",
    "plt.show()"
   ]
  },
  {
   "cell_type": "code",
   "execution_count": 21,
   "metadata": {},
   "outputs": [],
   "source": [
    "# # Classification report\n",
    "# print(classification_report(y_true=test_true, y_pred=(test_pred1 > 0.6).astype(int)))\n",
    "# model1.varimp_plot()"
   ]
  },
  {
   "cell_type": "code",
   "execution_count": 22,
   "metadata": {},
   "outputs": [
    {
     "name": "stdout",
     "output_type": "stream",
     "text": [
      "Parse progress: |█████████████████████████████████████████████████████████| 100%\n"
     ]
    }
   ],
   "source": [
    "# Use the model1 to predict the test2 \n",
    "h2o_test2= H2OFrame(test2)\n",
    "\n",
    "h2o_test2['in_initial_launch_location']= h2o_test2['in_initial_launch_location'].asfactor()"
   ]
  },
  {
   "cell_type": "code",
   "execution_count": 23,
   "metadata": {},
   "outputs": [
    {
     "name": "stdout",
     "output_type": "stream",
     "text": [
      "deeplearning prediction progress: |███████████████████████████████████████| 100%\n"
     ]
    },
    {
     "data": {
      "text/plain": [
       "array([0.33938647, 0.01144471, 0.06328547, 0.03008572, 0.13342082])"
      ]
     },
     "execution_count": 23,
     "metadata": {},
     "output_type": "execute_result"
    }
   ],
   "source": [
    "test2_pred = model1.predict(h2o_test2).as_data_frame()['p1'].values\n",
    "test2_pred[:5]"
   ]
  },
  {
   "cell_type": "code",
   "execution_count": 24,
   "metadata": {},
   "outputs": [
    {
     "data": {
      "text/html": [
       "<div>\n",
       "<style scoped>\n",
       "    .dataframe tbody tr th:only-of-type {\n",
       "        vertical-align: middle;\n",
       "    }\n",
       "\n",
       "    .dataframe tbody tr th {\n",
       "        vertical-align: top;\n",
       "    }\n",
       "\n",
       "    .dataframe thead th {\n",
       "        text-align: right;\n",
       "    }\n",
       "</style>\n",
       "<table border=\"1\" class=\"dataframe\">\n",
       "  <thead>\n",
       "    <tr style=\"text-align: right;\">\n",
       "      <th></th>\n",
       "      <th>age</th>\n",
       "      <th>cost_of_ad</th>\n",
       "      <th>device_type</th>\n",
       "      <th>gender</th>\n",
       "      <th>in_initial_launch_location</th>\n",
       "      <th>income</th>\n",
       "      <th>n_drivers</th>\n",
       "      <th>n_vehicles</th>\n",
       "      <th>prior_ins_tenure</th>\n",
       "      <th>outcome</th>\n",
       "      <th>outcome_prob</th>\n",
       "    </tr>\n",
       "  </thead>\n",
       "  <tbody>\n",
       "    <tr>\n",
       "      <th>69</th>\n",
       "      <td>30</td>\n",
       "      <td>0.003440</td>\n",
       "      <td>desktop</td>\n",
       "      <td>NaN</td>\n",
       "      <td>0</td>\n",
       "      <td>68949</td>\n",
       "      <td>1</td>\n",
       "      <td>2</td>\n",
       "      <td>2</td>\n",
       "      <td>0</td>\n",
       "      <td>0.339386</td>\n",
       "    </tr>\n",
       "    <tr>\n",
       "      <th>78</th>\n",
       "      <td>31</td>\n",
       "      <td>0.003442</td>\n",
       "      <td>other</td>\n",
       "      <td>NaN</td>\n",
       "      <td>0</td>\n",
       "      <td>35738</td>\n",
       "      <td>2</td>\n",
       "      <td>2</td>\n",
       "      <td>5</td>\n",
       "      <td>0</td>\n",
       "      <td>0.011445</td>\n",
       "    </tr>\n",
       "    <tr>\n",
       "      <th>81</th>\n",
       "      <td>44</td>\n",
       "      <td>0.003662</td>\n",
       "      <td>desktop</td>\n",
       "      <td>NaN</td>\n",
       "      <td>0</td>\n",
       "      <td>71453</td>\n",
       "      <td>1</td>\n",
       "      <td>3</td>\n",
       "      <td>5</td>\n",
       "      <td>0</td>\n",
       "      <td>0.063285</td>\n",
       "    </tr>\n",
       "    <tr>\n",
       "      <th>109</th>\n",
       "      <td>22</td>\n",
       "      <td>0.003578</td>\n",
       "      <td>Android</td>\n",
       "      <td>NaN</td>\n",
       "      <td>0</td>\n",
       "      <td>25662</td>\n",
       "      <td>2</td>\n",
       "      <td>3</td>\n",
       "      <td>3</td>\n",
       "      <td>0</td>\n",
       "      <td>0.030086</td>\n",
       "    </tr>\n",
       "    <tr>\n",
       "      <th>222</th>\n",
       "      <td>22</td>\n",
       "      <td>0.003304</td>\n",
       "      <td>Android</td>\n",
       "      <td>NaN</td>\n",
       "      <td>1</td>\n",
       "      <td>51174</td>\n",
       "      <td>1</td>\n",
       "      <td>1</td>\n",
       "      <td>2</td>\n",
       "      <td>0</td>\n",
       "      <td>0.133421</td>\n",
       "    </tr>\n",
       "  </tbody>\n",
       "</table>\n",
       "</div>"
      ],
      "text/plain": [
       "     age  cost_of_ad device_type gender  in_initial_launch_location  income  \\\n",
       "69    30    0.003440     desktop    NaN                           0   68949   \n",
       "78    31    0.003442       other    NaN                           0   35738   \n",
       "81    44    0.003662     desktop    NaN                           0   71453   \n",
       "109   22    0.003578     Android    NaN                           0   25662   \n",
       "222   22    0.003304     Android    NaN                           1   51174   \n",
       "\n",
       "     n_drivers  n_vehicles  prior_ins_tenure  outcome  outcome_prob  \n",
       "69           1           2                 2        0      0.339386  \n",
       "78           2           2                 5        0      0.011445  \n",
       "81           1           3                 5        0      0.063285  \n",
       "109          2           3                 3        0      0.030086  \n",
       "222          1           1                 2        0      0.133421  "
      ]
     },
     "execution_count": 24,
     "metadata": {},
     "output_type": "execute_result"
    }
   ],
   "source": [
    "test2_p = list(test2_pred)\n",
    "outcome = []\n",
    "for i in test2_p:\n",
    "    if i > 0.6:\n",
    "        outcome.append(1)\n",
    "    else:\n",
    "        outcome.append(0)\n",
    "test2['outcome'] = outcome\n",
    "test2['outcome_prob'] = test2_p\n",
    "test2.head()        "
   ]
  },
  {
   "cell_type": "code",
   "execution_count": 25,
   "metadata": {},
   "outputs": [
    {
     "name": "stdout",
     "output_type": "stream",
     "text": [
      "<class 'pandas.core.frame.DataFrame'>\n",
      "Int64Index: 10000 entries, 0 to 9976\n",
      "Data columns (total 11 columns):\n",
      "age                           10000 non-null int64\n",
      "cost_of_ad                    10000 non-null float64\n",
      "device_type                   10000 non-null object\n",
      "gender                        9751 non-null object\n",
      "in_initial_launch_location    10000 non-null int64\n",
      "income                        10000 non-null int64\n",
      "n_drivers                     10000 non-null int64\n",
      "n_vehicles                    10000 non-null int64\n",
      "prior_ins_tenure              10000 non-null int64\n",
      "outcome                       10000 non-null int64\n",
      "outcome_prob                  10000 non-null float64\n",
      "dtypes: float64(2), int64(7), object(2)\n",
      "memory usage: 937.5+ KB\n"
     ]
    }
   ],
   "source": [
    "test_new = pd.concat([test1, test2])\n",
    "test_new.info()\n",
    "test_new.to_csv('test_new.csv')"
   ]
  },
  {
   "cell_type": "code",
   "execution_count": 28,
   "metadata": {},
   "outputs": [
    {
     "name": "stdout",
     "output_type": "stream",
     "text": [
      "H2O session _sid_ad1f closed.\n"
     ]
    }
   ],
   "source": [
    "# Shutdown h2o instance\n",
    "h2o.cluster().shutdown()"
   ]
  },
  {
   "cell_type": "code",
   "execution_count": 27,
   "metadata": {},
   "outputs": [
    {
     "data": {
      "text/html": [
       "<div>\n",
       "<style scoped>\n",
       "    .dataframe tbody tr th:only-of-type {\n",
       "        vertical-align: middle;\n",
       "    }\n",
       "\n",
       "    .dataframe tbody tr th {\n",
       "        vertical-align: top;\n",
       "    }\n",
       "\n",
       "    .dataframe thead th {\n",
       "        text-align: right;\n",
       "    }\n",
       "</style>\n",
       "<table border=\"1\" class=\"dataframe\">\n",
       "  <thead>\n",
       "    <tr style=\"text-align: right;\">\n",
       "      <th></th>\n",
       "      <th>age</th>\n",
       "      <th>cost_of_ad</th>\n",
       "      <th>device_type</th>\n",
       "      <th>gender</th>\n",
       "      <th>in_initial_launch_location</th>\n",
       "      <th>income</th>\n",
       "      <th>n_drivers</th>\n",
       "      <th>n_vehicles</th>\n",
       "      <th>prior_ins_tenure</th>\n",
       "      <th>outcome</th>\n",
       "      <th>outcome_prob</th>\n",
       "    </tr>\n",
       "  </thead>\n",
       "  <tbody>\n",
       "    <tr>\n",
       "      <th>0</th>\n",
       "      <td>34</td>\n",
       "      <td>0.005134</td>\n",
       "      <td>Android</td>\n",
       "      <td>F</td>\n",
       "      <td>1</td>\n",
       "      <td>40376</td>\n",
       "      <td>1</td>\n",
       "      <td>3</td>\n",
       "      <td>7</td>\n",
       "      <td>0</td>\n",
       "      <td>0.003875</td>\n",
       "    </tr>\n",
       "    <tr>\n",
       "      <th>1</th>\n",
       "      <td>53</td>\n",
       "      <td>0.005223</td>\n",
       "      <td>desktop</td>\n",
       "      <td>F</td>\n",
       "      <td>1</td>\n",
       "      <td>84511</td>\n",
       "      <td>1</td>\n",
       "      <td>1</td>\n",
       "      <td>11</td>\n",
       "      <td>0</td>\n",
       "      <td>0.122604</td>\n",
       "    </tr>\n",
       "    <tr>\n",
       "      <th>2</th>\n",
       "      <td>46</td>\n",
       "      <td>0.004939</td>\n",
       "      <td>laptop</td>\n",
       "      <td>F</td>\n",
       "      <td>0</td>\n",
       "      <td>79322</td>\n",
       "      <td>1</td>\n",
       "      <td>1</td>\n",
       "      <td>4</td>\n",
       "      <td>0</td>\n",
       "      <td>0.168163</td>\n",
       "    </tr>\n",
       "    <tr>\n",
       "      <th>3</th>\n",
       "      <td>36</td>\n",
       "      <td>0.004924</td>\n",
       "      <td>Android</td>\n",
       "      <td>F</td>\n",
       "      <td>0</td>\n",
       "      <td>63295</td>\n",
       "      <td>1</td>\n",
       "      <td>2</td>\n",
       "      <td>0</td>\n",
       "      <td>0</td>\n",
       "      <td>0.010565</td>\n",
       "    </tr>\n",
       "    <tr>\n",
       "      <th>4</th>\n",
       "      <td>28</td>\n",
       "      <td>0.005146</td>\n",
       "      <td>other</td>\n",
       "      <td>F</td>\n",
       "      <td>1</td>\n",
       "      <td>36170</td>\n",
       "      <td>1</td>\n",
       "      <td>3</td>\n",
       "      <td>3</td>\n",
       "      <td>0</td>\n",
       "      <td>0.000033</td>\n",
       "    </tr>\n",
       "  </tbody>\n",
       "</table>\n",
       "</div>"
      ],
      "text/plain": [
       "   age  cost_of_ad device_type gender  in_initial_launch_location  income  \\\n",
       "0   34    0.005134     Android      F                           1   40376   \n",
       "1   53    0.005223     desktop      F                           1   84511   \n",
       "2   46    0.004939      laptop      F                           0   79322   \n",
       "3   36    0.004924     Android      F                           0   63295   \n",
       "4   28    0.005146       other      F                           1   36170   \n",
       "\n",
       "   n_drivers  n_vehicles  prior_ins_tenure  outcome  outcome_prob  \n",
       "0          1           3                 7        0      0.003875  \n",
       "1          1           1                11        0      0.122604  \n",
       "2          1           1                 4        0      0.168163  \n",
       "3          1           2                 0        0      0.010565  \n",
       "4          1           3                 3        0      0.000033  "
      ]
     },
     "execution_count": 27,
     "metadata": {},
     "output_type": "execute_result"
    }
   ],
   "source": [
    "test_new.head()"
   ]
  },
  {
   "cell_type": "code",
   "execution_count": null,
   "metadata": {},
   "outputs": [],
   "source": []
  }
 ],
 "metadata": {
  "kernelspec": {
   "display_name": "Python 3",
   "language": "python",
   "name": "python3"
  },
  "language_info": {
   "codemirror_mode": {
    "name": "ipython",
    "version": 3
   },
   "file_extension": ".py",
   "mimetype": "text/x-python",
   "name": "python",
   "nbconvert_exporter": "python",
   "pygments_lexer": "ipython3",
   "version": "3.7.3"
  }
 },
 "nbformat": 4,
 "nbformat_minor": 2
}
